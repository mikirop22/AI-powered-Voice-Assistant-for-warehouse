{
 "cells": [
  {
   "cell_type": "code",
   "execution_count": null,
   "metadata": {},
   "outputs": [],
   "source": [
    "\n",
    "# Definir las entradas para la red neuronal\n",
    "input_technical_word = Input(shape=(1,), dtype=tf.string, name='input_technical_word')\n",
    "input_detected_word = Input(shape=(1,), dtype=tf.string, name='input_detected_word')\n"
   ]
  },
  {
   "cell_type": "code",
   "execution_count": null,
   "metadata": {},
   "outputs": [],
   "source": [
    "import tensorflow as tf\n",
    "from tensorflow.keras.layers import Input, Embedding, LSTM, Dense, Concatenate\n",
    "from tensorflow.keras.models import Model\n",
    "from tensorflow.keras.optimizers import Adam\n",
    "\n",
    "\n",
    "# Capa de embedding para la palabra técnica\n",
    "embedding_layer = Embedding(input_dim=vocab_size, output_dim=embedding_dim)(input_technical_word)\n",
    "\n",
    "# Capa LSTM para procesar la palabra técnica\n",
    "lstm_layer = LSTM(units=128)(embedding_layer)\n",
    "\n",
    "# Capa Dense para procesar la palabra detectada\n",
    "detected_word_dense = Dense(64, activation='relu')(input_detected_word)\n",
    "\n",
    "# Concatenar las salidas de las capas LSTM y Dense\n",
    "concatenated_layer = Concatenate()([lstm_layer, detected_word_dense])\n",
    "\n",
    "# Capa Dense para la salida final\n",
    "output_layer = Dense(num_classes, activation='softmax')(concatenated_layer)\n",
    "\n",
    "# Definir el modelo\n",
    "model = Model(inputs=[input_technical_word, input_detected_word], outputs=output_layer)\n",
    "\n",
    "# Compilar el modelo\n",
    "optimizer = Adam(learning_rate=0.001)\n",
    "model.compile(optimizer=optimizer, loss='categorical_crossentropy', metrics=['accuracy'])\n",
    "\n",
    "# Resumen del modelo\n",
    "model.summary()\n"
   ]
  }
 ],
 "metadata": {
  "language_info": {
   "name": "python"
  }
 },
 "nbformat": 4,
 "nbformat_minor": 2
}
